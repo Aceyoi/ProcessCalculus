{
  "nbformat": 4,
  "nbformat_minor": 0,
  "metadata": {
    "colab": {
      "provenance": [],
      "gpuType": "T4",
      "authorship_tag": "ABX9TyP1mmEnXQqQJ3WiEvhsNyE9",
      "include_colab_link": true
    },
    "kernelspec": {
      "name": "python3",
      "display_name": "Python 3"
    },
    "language_info": {
      "name": "python"
    },
    "accelerator": "GPU"
  },
  "cells": [
    {
      "cell_type": "markdown",
      "metadata": {
        "id": "view-in-github",
        "colab_type": "text"
      },
      "source": [
        "<a href=\"https://colab.research.google.com/github/Aceyoi/List-vs-NumPy-vs-Torch/blob/main/List_vs_NumPy_vs_Torch.ipynb\" target=\"_parent\"><img src=\"https://colab.research.google.com/assets/colab-badge.svg\" alt=\"Open In Colab\"/></a>"
      ]
    },
    {
      "cell_type": "code",
      "execution_count": 2,
      "metadata": {
        "colab": {
          "base_uri": "https://localhost:8080/"
        },
        "id": "d9J2L70qle7n",
        "outputId": "241346cf-0c90-477b-f3c4-87d1ebae8110"
      },
      "outputs": [
        {
          "output_type": "stream",
          "name": "stdout",
          "text": [
            "Введите размер матрицы 10\n",
            "Случайный список python: 0.000128 секунд\n",
            "Список python: 0.000137 секунд\n",
            "Еденичный список python: 0.000097 секунд\n",
            "Случайная матрица в numpy: 0.000042 секунд\n",
            "Матрица в numpy: 0.000016 секунд\n",
            "Еденичная матрица в numpy: 0.001818 секунд\n",
            "Случайная матрица в torch CPU: 0.000058 секунд\n",
            "Матрица в torch CPU: 0.000031 секунд\n",
            "Еденичная матрица в torch CPU: 0.011096 секунд\n",
            "Случайная матрица в torch GPU: 0.141212 секунд\n",
            "Матрица в torch GPU: 0.000084 секунд\n",
            "Еденичная матрица в torch GPU: 0.000030 секунд\n"
          ]
        }
      ],
      "source": [
        "import numpy as np\n",
        "import torch\n",
        "import random\n",
        "import time\n",
        "\n",
        "n = int(input(\"Введите размер матрицы \"))\n",
        "# Будут созданы единичная, единичная обратная, случайная матрицы\n",
        "\n",
        "matrixlistrand = [[random.randint(0, 100) for _ in range(n)] for _ in range(n)] # Создание случайной матрицы в списках python\n",
        "matrixlist = [[(i * n) + j + 1 for j in range(n)] for i in range(n)] # Создание матрицы от 1 до n в списках python\n",
        "matrixlistone = [[1 for _ in range(n)] for _ in range(n)] # Создание единичной матрицы в списках python\n",
        "\n",
        "matrixmaxrand = np.random.randint(0, 100, (n, n)) # Создание случайной матрицы в numpy\n",
        "matrixmax = np.arange(1, n * n + 1).reshape(n, n) # Создание матрицы от 1 до n в numpy\n",
        "matrixmaxone = np.ones((n, n)) # Создание единичной матрицы в numpy\n",
        "\n",
        "matrixtrchcpurand = torch.randint(0, 100, (n, n)) # Создание случайной матрицы в torch CPU\n",
        "matrixtrchcpu = torch.arange(1, n * n + 1).reshape(n, n) # Создание матрицы от 1 до n в torch CPU\n",
        "matrixtrchcpuone = torch.ones(n, n) # Создание единичной матрицы в torch CPU\n",
        "\n",
        "matrixtrchgpurand = torch.randint(0, 100, (n, n), device='cuda').float() # Создание случайной матрицы в torch GPU\n",
        "matrixtrchgpu = torch.arange(1, n * n + 1, device='cuda').reshape(n, n).float() # Создание матрицы от 1 до n в torch GPU\n",
        "matrixtrchgpuone = torch.ones(n, n, device='cuda').float() # Создание единичной матрицы в torch GPU\n",
        "\n",
        "# Функция для перемножения матриц в виде списков Python\n",
        "def multiply_python(mat1, mat2):\n",
        "    result = [[0 for _ in range(len(mat2[0]))] for _ in range(len(mat1))]\n",
        "    for i in range(len(mat1)):\n",
        "        for j in range(len(mat2[0])):\n",
        "            for k in range(len(mat2)):\n",
        "                result[i][j] += mat1[i][k] * mat2[k][j]\n",
        "    return result\n",
        "\n",
        "# Измерение времени для Python List\n",
        "def timechecklist(matrixlist1, matrixlist2):\n",
        "    start_time = time.time()\n",
        "    multiply_python(matrixlist1, matrixlist2)\n",
        "    end_time = time.time()\n",
        "    return end_time - start_time\n",
        "\n",
        "# Измерение времени для NumPy\n",
        "def timecheckmax(matrixmax1, matrixmax2):\n",
        "    start_time = time.time()\n",
        "    np.dot(matrixmax1, matrixmax2)\n",
        "    end_time = time.time()\n",
        "    return end_time - start_time\n",
        "\n",
        "# Измерение времени для PyTorch (CPU)\n",
        "def timechecktrchcpu(matrixtrchcpu1, matrixtrchcpu2):\n",
        "    start_time = time.time()\n",
        "    torch.matmul(matrixtrchcpu1, matrixtrchcpu2)\n",
        "    end_time = time.time()\n",
        "    return end_time - start_time\n",
        "\n",
        "# Измерение времени для PyTorch (GPU)\n",
        "def timechecktrchgpu(matrixtrchgpu1, matrixtrchgpu2):\n",
        "    start_time = time.time()\n",
        "    torch.matmul(matrixtrchgpu1, matrixtrchgpu2)\n",
        "    end_time = time.time()\n",
        "    return end_time - start_time\n",
        "\n",
        "# Вывод результатов\n",
        "print(f\"Случайный список python: {timechecklist(matrixlistrand,matrixlistrand):.6f} секунд\")\n",
        "print(f\"Список python: {timechecklist(matrixlist,matrixlist):.6f} секунд\")\n",
        "print(f\"Еденичный список python: {timechecklist(matrixlistone,matrixlistone):.6f} секунд\")\n",
        "\n",
        "print(f\"Случайная матрица в numpy: {timecheckmax(matrixmaxrand,matrixmaxrand):.6f} секунд\")\n",
        "print(f\"Матрица в numpy: {timecheckmax(matrixmax,matrixmax):.6f} секунд\")\n",
        "print(f\"Еденичная матрица в numpy: {timecheckmax(matrixmaxone,matrixmaxone):.6f} секунд\")\n",
        "\n",
        "print(f\"Случайная матрица в torch CPU: {timechecktrchcpu(matrixtrchcpurand,matrixtrchcpurand):.6f} секунд\")\n",
        "print(f\"Матрица в torch CPU: {timechecktrchcpu(matrixtrchcpu,matrixtrchcpu):.6f} секунд\")\n",
        "print(f\"Еденичная матрица в torch CPU: {timechecktrchcpu(matrixtrchcpuone,matrixtrchcpuone):.6f} секунд\")\n",
        "\n",
        "print(f\"Случайная матрица в torch GPU: {timechecktrchgpu(matrixtrchgpurand,matrixtrchgpurand):.6f} секунд\")\n",
        "print(f\"Матрица в torch GPU: {timechecktrchgpu(matrixtrchgpu,matrixtrchgpu):.6f} секунд\")\n",
        "print(f\"Еденичная матрица в torch GPU: {timechecktrchgpu(matrixtrchgpuone,matrixtrchgpuone):.6f} секунд\")"
      ]
    },
    {
      "cell_type": "code",
      "source": [],
      "metadata": {
        "id": "ccBs4UJkmA1N"
      },
      "execution_count": null,
      "outputs": []
    }
  ]
}