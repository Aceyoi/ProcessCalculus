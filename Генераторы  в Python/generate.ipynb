{
  "nbformat": 4,
  "nbformat_minor": 0,
  "metadata": {
    "colab": {
      "provenance": [],
      "authorship_tag": "ABX9TyO0wm3ymWtz+mNHmqQYcsFK",
      "include_colab_link": true
    },
    "kernelspec": {
      "name": "python3",
      "display_name": "Python 3"
    },
    "language_info": {
      "name": "python"
    }
  },
  "cells": [
    {
      "cell_type": "markdown",
      "metadata": {
        "id": "view-in-github",
        "colab_type": "text"
      },
      "source": [
        "<a href=\"https://colab.research.google.com/github/Aceyoi/Generator-Python/blob/main/generate.ipynb\" target=\"_parent\"><img src=\"https://colab.research.google.com/assets/colab-badge.svg\" alt=\"Open In Colab\"/></a>"
      ]
    },
    {
      "cell_type": "markdown",
      "source": [
        "https://ivtipm.github.io/Programming/Glava06/index06.htm#z139\n"
      ],
      "metadata": {
        "id": "ytwX_LHM0MYI"
      }
    },
    {
      "cell_type": "code",
      "execution_count": null,
      "metadata": {
        "colab": {
          "base_uri": "https://localhost:8080/"
        },
        "id": "l4FNQXVWuEKT",
        "outputId": "ccf583e0-8e87-4881-fcad-0b1c84ba42bb"
      },
      "outputs": [
        {
          "output_type": "stream",
          "name": "stdout",
          "text": [
            "[1, 2, 3, 4, 5, 6, 7, 8, 9, 10, 11, 12, 13, 14, 15, 16, 17, 18, 19, 20, 21, 22, 23, 24, 25]\n"
          ]
        }
      ],
      "source": [
        "def generate(n):\n",
        "    return (i for i in range(1, n + 1))\n",
        "\n",
        "#n = int(input(\"Введите n \"))\n",
        "n = 25\n",
        "print(list(generate(n)))"
      ]
    },
    {
      "cell_type": "code",
      "source": [
        "def generate(n):\n",
        "    return (i ** 2 for i in range(1, n + 1))\n",
        "\n",
        "#n = int(input(\"Введите n \"))\n",
        "n = 25\n",
        "print(list(generate(n)))"
      ],
      "metadata": {
        "colab": {
          "base_uri": "https://localhost:8080/"
        },
        "id": "xWDTlfZzvNA9",
        "outputId": "fa0ba00f-4db2-4834-85f2-5b2481d714d8"
      },
      "execution_count": null,
      "outputs": [
        {
          "output_type": "stream",
          "name": "stdout",
          "text": [
            "[1, 4, 9, 16, 25, 36, 49, 64, 81, 100, 121, 144, 169, 196, 225, 256, 289, 324, 361, 400, 441, 484, 529, 576, 625]\n"
          ]
        }
      ]
    },
    {
      "cell_type": "code",
      "source": [
        "def generate(n):\n",
        "    return (math.factorial(i) for i in range(1, n + 1))\n",
        "\n",
        "#n = int(input(\"Введите n \"))\n",
        "n = 25\n",
        "print(list(generate(n)))"
      ],
      "metadata": {
        "colab": {
          "base_uri": "https://localhost:8080/"
        },
        "id": "GL3TEGyKvNkw",
        "outputId": "0b71daf3-815f-49e4-dee1-611ca92a08fa"
      },
      "execution_count": null,
      "outputs": [
        {
          "output_type": "stream",
          "name": "stdout",
          "text": [
            "[1, 2, 6, 24, 120, 720, 5040, 40320, 362880, 3628800, 39916800, 479001600, 6227020800, 87178291200, 1307674368000, 20922789888000, 355687428096000, 6402373705728000, 121645100408832000, 2432902008176640000, 51090942171709440000, 1124000727777607680000, 25852016738884976640000, 620448401733239439360000, 15511210043330985984000000]\n"
          ]
        }
      ]
    },
    {
      "cell_type": "code",
      "source": [
        "def generate(n):\n",
        "    return (2 ** (i + 1) for i in range(1, n + 1))\n",
        "\n",
        "#n = int(input(\"Введите n \"))\n",
        "n = 25\n",
        "print(list(generate(n)))"
      ],
      "metadata": {
        "colab": {
          "base_uri": "https://localhost:8080/"
        },
        "id": "d6N57wZfvOB4",
        "outputId": "bf796aeb-7d91-4665-ace6-0cbf897edf8a"
      },
      "execution_count": null,
      "outputs": [
        {
          "output_type": "stream",
          "name": "stdout",
          "text": [
            "[4, 8, 16, 32, 64, 128, 256, 512, 1024, 2048, 4096, 8192, 16384, 32768, 65536, 131072, 262144, 524288, 1048576, 2097152, 4194304, 8388608, 16777216, 33554432, 67108864]\n"
          ]
        }
      ]
    },
    {
      "cell_type": "code",
      "source": [
        "def generate(n):\n",
        "    return (2 ** i + 3 ** (i + 1) for i in range(1, n + 1))\n",
        "\n",
        "#n = int(input(\"Введите n \"))\n",
        "n = 25\n",
        "print(list(generate(n)))"
      ],
      "metadata": {
        "colab": {
          "base_uri": "https://localhost:8080/"
        },
        "id": "gS9T7YvJvOe3",
        "outputId": "a211bad9-85ee-470e-bfc0-a358a61fb3b1"
      },
      "execution_count": null,
      "outputs": [
        {
          "output_type": "stream",
          "name": "stdout",
          "text": [
            "[11, 31, 89, 259, 761, 2251, 6689, 19939, 59561, 178171, 533489, 1598419, 4791161, 14365291, 43079489, 129205699, 387551561, 1162523611, 3487308689, 10461401779, 31383156761, 94147373131, 282437925089, 847305386659, 2541899382761]\n"
          ]
        }
      ]
    },
    {
      "cell_type": "code",
      "source": [
        "def generate(n):\n",
        "    return (2 ** i / math.factorial(i) for i in range(1, n + 1))\n",
        "\n",
        "#n = int(input(\"Введите n \"))\n",
        "n = 25\n",
        "print(list(generate(n)))"
      ],
      "metadata": {
        "colab": {
          "base_uri": "https://localhost:8080/"
        },
        "id": "t3IXEe8MvQlW",
        "outputId": "bfade231-7330-4013-b9a4-3e22fc6a7650"
      },
      "execution_count": null,
      "outputs": [
        {
          "output_type": "stream",
          "name": "stdout",
          "text": [
            "[2.0, 2.0, 1.3333333333333333, 0.6666666666666666, 0.26666666666666666, 0.08888888888888889, 0.025396825396825397, 0.006349206349206349, 0.0014109347442680777, 0.0002821869488536155, 5.130671797338464e-05, 8.551119662230774e-06, 1.3155568711124266e-06, 1.879366958732038e-07, 2.5058226116427174e-08, 3.132278264553397e-09, 3.685033252415761e-10, 4.0944813915730674e-11, 4.3099804121821765e-12, 4.3099804121821766e-13, 4.104743249697311e-14, 3.731584772452101e-15, 3.244856323871392e-16, 2.7040469365594935e-17, 2.163237549247595e-18]\n"
          ]
        }
      ]
    },
    {
      "cell_type": "code",
      "source": [
        "def generate(n):\n",
        "    return (sum(1 / k for k in range(1, i + 1)) for i in range(1, n + 1))\n",
        "\n",
        "#n = int(input(\"Введите n \"))\n",
        "n = 25\n",
        "print(list(generate(n)))"
      ],
      "metadata": {
        "colab": {
          "base_uri": "https://localhost:8080/"
        },
        "id": "3iwm5SdxvQ9y",
        "outputId": "8126fc31-50ae-4c33-f046-24ac53ae9de5"
      },
      "execution_count": null,
      "outputs": [
        {
          "output_type": "stream",
          "name": "stdout",
          "text": [
            "[1.0, 1.5, 1.8333333333333333, 2.083333333333333, 2.283333333333333, 2.4499999999999997, 2.5928571428571425, 2.7178571428571425, 2.8289682539682537, 2.9289682539682538, 3.0198773448773446, 3.103210678210678, 3.180133755133755, 3.251562326562327, 3.3182289932289937, 3.3807289932289937, 3.439552522640758, 3.4951080781963135, 3.547739657143682, 3.597739657143682, 3.6453587047627294, 3.690813250217275, 3.73429151108684, 3.7759581777535067, 3.8159581777535068]\n"
          ]
        }
      ]
    },
    {
      "cell_type": "code",
      "source": [
        "def generate(n):\n",
        "    return (sum((-1) ** (k + 1) / k for k in range(1, i + 1)) for i in range(1, n + 1))\n",
        "\n",
        "#n = int(input(\"Введите n \"))\n",
        "n = 25\n",
        "print(list(generate(n)))"
      ],
      "metadata": {
        "colab": {
          "base_uri": "https://localhost:8080/"
        },
        "id": "RHpzDQXqvRRb",
        "outputId": "29d2e8e1-4291-42fa-b333-5a3285f2b7d2"
      },
      "execution_count": null,
      "outputs": [
        {
          "output_type": "stream",
          "name": "stdout",
          "text": [
            "[1.0, 0.5, 0.8333333333333333, 0.5833333333333333, 0.7833333333333332, 0.6166666666666666, 0.7595238095238095, 0.6345238095238095, 0.7456349206349207, 0.6456349206349207, 0.7365440115440116, 0.6532106782106782, 0.7301337551337552, 0.6587051837051838, 0.7253718503718505, 0.6628718503718505, 0.7216953797836152, 0.6661398242280596, 0.718771403175428, 0.6687714031754279, 0.7163904507944756, 0.6709359053399302, 0.7144141662094954, 0.6727474995428288, 0.7127474995428288]\n"
          ]
        }
      ]
    },
    {
      "cell_type": "code",
      "source": [
        "def generate(n):\n",
        "    return (i * sum(1 / math.factorial(k) for k in range(1, i + 1)) for i in range(1, n + 1))\n",
        "\n",
        "#n = int(input(\"Введите n \"))\n",
        "n = 25\n",
        "print(list(generate(n)))"
      ],
      "metadata": {
        "colab": {
          "base_uri": "https://localhost:8080/"
        },
        "id": "KppJNRQ3vRj4",
        "outputId": "c0c746f6-5eab-4f67-d69a-dc723b162e3d"
      },
      "execution_count": null,
      "outputs": [
        {
          "output_type": "stream",
          "name": "stdout",
          "text": [
            "[1.0, 3.0, 5.0, 6.833333333333334, 8.583333333333334, 10.308333333333334, 12.027777777777779, 13.74623015873016, 15.464533730158733, 17.182818011463848, 18.901100088183423, 20.619381939434025, 22.337663769807868, 24.05594559841522, 25.77422742688492, 27.49250925534468, 29.21079108380377, 30.929072912262818, 32.647354740721866, 34.36563656918091, 36.083918397639955, 37.802200226099, 39.520482054558045, 41.23876388301709, 42.95704571147614]\n"
          ]
        }
      ]
    }
  ]
}